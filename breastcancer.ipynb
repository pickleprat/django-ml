{
 "cells": [
  {
   "cell_type": "code",
   "execution_count": 22,
   "metadata": {},
   "outputs": [],
   "source": [
    "import pandas as pd \n",
    "from sklearn.impute import SimpleImputer\n",
    "import numpy as np \n",
    "from sklearn.model_selection import train_test_split\n",
    "from sklearn.neighbors import KNeighborsClassifier\n",
    "import pickle \n",
    "\n",
    "dataset = pd.read_csv(\"breastcancer.txt\")\n",
    "dataset = dataset.drop([\"id\"], axis=1)\n",
    "imputer = SimpleImputer(missing_values=\"?\", strategy=\"most_frequent\")\n",
    "dataset[\"bare_nuclei\"] = imputer.fit_transform(dataset.bare_nuclei.values.reshape(-1, 1))\n",
    "dataset[\"bare_nuclei\"] = dataset.bare_nuclei.astype(\"int64\")\n",
    "\n",
    "clf = KNeighborsClassifier()\n",
    "X, y = dataset.drop([\"class\"], axis=1), dataset[\"class\"]\n",
    "X_train, X_test, y_train, y_test = train_test_split(X, y, test_size=0.25, random_state=1)\n",
    "clf.fit(X_train, y_train)\n",
    "clf.score(X_test, y_test)\n",
    "\n",
    "with open(\"classifier.pickle\", \"wb\") as f: \n",
    "    pickle.dump(clf, f)\n"
   ]
  },
  {
   "cell_type": "code",
   "execution_count": null,
   "metadata": {},
   "outputs": [],
   "source": []
  }
 ],
 "metadata": {
  "kernelspec": {
   "display_name": "ml",
   "language": "python",
   "name": "ml"
  },
  "language_info": {
   "codemirror_mode": {
    "name": "ipython",
    "version": 3
   },
   "file_extension": ".py",
   "mimetype": "text/x-python",
   "name": "python",
   "nbconvert_exporter": "python",
   "pygments_lexer": "ipython3",
   "version": "3.10.4"
  },
  "orig_nbformat": 4
 },
 "nbformat": 4,
 "nbformat_minor": 2
}
